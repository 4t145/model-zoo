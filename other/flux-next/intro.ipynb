{
 "cells": [
  {
   "cell_type": "code",
   "execution_count": 1,
   "metadata": {},
   "outputs": [
    {
     "name": "stderr",
     "output_type": "stream",
     "text": [
      "┌ Info: activating environment at `~/projects/flux/model-zoo/notebooks/other/flux-next/Project.toml`.\n",
      "└ @ Pkg.API /Users/mike/projects/julia-dev/usr/share/julia/stdlib/v1.2/Pkg/src/API.jl:557\n"
     ]
    },
    {
     "name": "stdout",
     "output_type": "stream",
     "text": [
      "\u001b[32m\u001b[1m  Updating\u001b[22m\u001b[39m registry at `~/.julia/registries/General`\n",
      "\u001b[32m\u001b[1m  Updating\u001b[22m\u001b[39m git-repo `git@github.com:JuliaRegistries/General.git`\n",
      "\u001b[?25l\u001b[2K\u001b[?25h\u001b[32m\u001b[1m  Updating\u001b[22m\u001b[39m git-repo `git@github.com:FluxML/Flux.jl.git`\n",
      "\u001b[?25l\u001b[2K\u001b[?25h\u001b[32m\u001b[1m  Updating\u001b[22m\u001b[39m git-repo `git@github.com:FluxML/Zygote.jl.git`\n",
      "\u001b[?25l\u001b[2K\u001b[?25h"
     ]
    }
   ],
   "source": [
    "using Pkg; Pkg.activate(\".\"); Pkg.instantiate();"
   ]
  },
  {
   "cell_type": "markdown",
   "metadata": {},
   "source": [
    "Flux vNext\n",
    "=========="
   ]
  },
  {
   "cell_type": "markdown",
   "metadata": {},
   "source": [
    "Optimisation Basics\n",
    "-------------------"
   ]
  },
  {
   "cell_type": "code",
   "execution_count": 2,
   "metadata": {},
   "outputs": [],
   "source": [
    "using Flux\n",
    "using Flux: step!"
   ]
  },
  {
   "cell_type": "markdown",
   "metadata": {},
   "source": [
    "Using Flux is very simple. You write a program, and we'll make tweaks to that\n",
    "program so that it gets gradually better."
   ]
  },
  {
   "cell_type": "markdown",
   "metadata": {},
   "source": [
    "What does it mean to make a program \"better\"? That's up to you – your program\n",
    "returns a score, called the \"loss\", which determines how well the program\n",
    "is doing. Flux's job is to minimise that score. For example, let's take the\n",
    "simplest possible program, one that simply returns a constant."
   ]
  },
  {
   "cell_type": "code",
   "execution_count": 3,
   "metadata": {},
   "outputs": [
    {
     "data": {
      "text/plain": [
       "1"
      ]
     },
     "execution_count": 3,
     "metadata": {},
     "output_type": "execute_result"
    }
   ],
   "source": [
    "w = 1\n",
    "loss = () -> w\n",
    "\n",
    "loss()"
   ]
  },
  {
   "cell_type": "markdown",
   "metadata": {},
   "source": [
    "This program doesn't look very interesting, but we can still do something\n",
    "interesting with it. The core function that optimises programs for us is\n",
    "`step!`. We have to pass `step!` an *optimiser* called `Descent`; this basically\n",
    "tells Flux how agressive to be, but we'll talk more about that later."
   ]
  },
  {
   "cell_type": "code",
   "execution_count": 4,
   "metadata": {},
   "outputs": [
    {
     "data": {
      "text/plain": [
       "1"
      ]
     },
     "execution_count": 4,
     "metadata": {},
     "output_type": "execute_result"
    }
   ],
   "source": [
    "opt = Descent(1)\n",
    "step!(loss, opt)"
   ]
  },
  {
   "cell_type": "markdown",
   "metadata": {},
   "source": [
    "`step!` returns the same loss as before, `1`. But something more interesting\n",
    "has happened; try running `loss()` again."
   ]
  },
  {
   "cell_type": "code",
   "execution_count": 5,
   "metadata": {},
   "outputs": [
    {
     "data": {
      "text/plain": [
       "0.0"
      ]
     },
     "execution_count": 5,
     "metadata": {},
     "output_type": "execute_result"
    }
   ],
   "source": [
    "loss()"
   ]
  },
  {
   "cell_type": "markdown",
   "metadata": {},
   "source": [
    "It went down! And if we keep calling `step!` in a loop, it'll keep going down."
   ]
  },
  {
   "cell_type": "code",
   "execution_count": 6,
   "metadata": {},
   "outputs": [
    {
     "name": "stdout",
     "output_type": "stream",
     "text": [
      "step!(loss, opt) = 0.0\n",
      "step!(loss, opt) = -1.0\n",
      "step!(loss, opt) = -2.0\n",
      "step!(loss, opt) = -3.0\n",
      "step!(loss, opt) = -4.0\n",
      "step!(loss, opt) = -5.0\n",
      "step!(loss, opt) = -6.0\n",
      "step!(loss, opt) = -7.0\n",
      "step!(loss, opt) = -8.0\n",
      "step!(loss, opt) = -9.0\n"
     ]
    },
    {
     "data": {
      "text/plain": [
       "-10.0"
      ]
     },
     "execution_count": 6,
     "metadata": {},
     "output_type": "execute_result"
    }
   ],
   "source": [
    "for i = 1:10\n",
    "  @show step!(loss, opt)\n",
    "end\n",
    "\n",
    "loss()"
   ]
  },
  {
   "cell_type": "markdown",
   "metadata": {},
   "source": [
    "Of course, this case is pretty easy: we can always improve the parameter by\n",
    "making `w` less."
   ]
  },
  {
   "cell_type": "code",
   "execution_count": 7,
   "metadata": {},
   "outputs": [
    {
     "data": {
      "text/plain": [
       "-10.0"
      ]
     },
     "execution_count": 7,
     "metadata": {},
     "output_type": "execute_result"
    }
   ],
   "source": [
    "w"
   ]
  },
  {
   "cell_type": "markdown",
   "metadata": {},
   "source": [
    "Here's something harder; now our `loss` is always positive, so it can't keep\n",
    "improving indefinitely. Things will stop improving once we hit the *minimum*\n",
    "of this function (which we happen to know is at $w = 0$, where $loss = 0$.)"
   ]
  },
  {
   "cell_type": "code",
   "execution_count": 8,
   "metadata": {},
   "outputs": [
    {
     "name": "stdout",
     "output_type": "stream",
     "text": [
      "step!(loss, opt) = 1\n",
      "step!(loss, opt) = 0.36\n",
      "step!(loss, opt) = 0.1296\n",
      "step!(loss, opt) = 0.046655999999999996\n",
      "step!(loss, opt) = 0.016796159999999997\n",
      "step!(loss, opt) = 0.006046617599999999\n",
      "step!(loss, opt) = 0.0021767823359999995\n",
      "step!(loss, opt) = 0.0007836416409599999\n",
      "step!(loss, opt) = 0.0002821109907455999\n",
      "step!(loss, opt) = 0.00010155995666841595\n"
     ]
    },
    {
     "data": {
      "text/plain": [
       "0.006046617599999998"
      ]
     },
     "execution_count": 8,
     "metadata": {},
     "output_type": "execute_result"
    }
   ],
   "source": [
    "w = 1\n",
    "loss = () -> w^2\n",
    "\n",
    "opt = Descent(0.2)\n",
    "for i = 1:10\n",
    "  @show step!(loss, opt)\n",
    "end\n",
    "\n",
    "w"
   ]
  },
  {
   "cell_type": "markdown",
   "metadata": {},
   "source": [
    "You can see that our loss gradually tends towards $0$, and so does $w$. Note,\n",
    "however, that Flux will never say: \"Ok, we're done here, here's the best value\n",
    "for $w$.\" Though there are tools that can do this in simple cases, Flux is\n",
    "designed to scale to extremely complex problems where this is no longer\n",
    "possible. So we only make tweaks and it's up to you when to finish."
   ]
  },
  {
   "cell_type": "markdown",
   "metadata": {},
   "source": [
    "Let's put these ideas towards something a little more interesting. Say we want\n",
    "to solve $5x = 10$, to find an $x$ that makes this true. What's our program?\n",
    "Well, to start with we want to take $f(x) = 5x$. Then our loss should be something like\n",
    "$f(x) - 10$, so that it measures how far the $f(x)$ is from where we want it to\n",
    "be. This doesn't quite work, however, since the loss will be low (negative) if\n",
    "$f(x)$ is `-Inf`! So we can use our squaring trick again here, to make\n",
    "sure that $f(x) - 10$ tends to zero."
   ]
  },
  {
   "cell_type": "code",
   "execution_count": 9,
   "metadata": {},
   "outputs": [
    {
     "name": "stdout",
     "output_type": "stream",
     "text": [
      "l = 25\n",
      "l = 6.25\n",
      "l = 1.5625\n",
      "l = 0.390625\n",
      "l = 0.09765625\n",
      "l = 0.0244140625\n",
      "l = 0.006103515625\n",
      "l = 0.00152587890625\n",
      "l = 0.0003814697265625\n",
      "l = 9.5367431640625e-5\n"
     ]
    }
   ],
   "source": [
    "x = 1 # Our initial guess\n",
    "f = x -> 5x\n",
    "\n",
    "opt = Descent(0.01)\n",
    "\n",
    "for i = 1:10\n",
    "  l = step!(opt) do\n",
    "    (f(x) - 10)^2\n",
    "  end\n",
    "  @show l\n",
    "end"
   ]
  },
  {
   "cell_type": "markdown",
   "metadata": {},
   "source": [
    "Our loss ended up being pretty low. How's our function looking?"
   ]
  },
  {
   "cell_type": "code",
   "execution_count": 10,
   "metadata": {},
   "outputs": [
    {
     "data": {
      "text/plain": [
       "9.9951171875"
      ]
     },
     "execution_count": 10,
     "metadata": {},
     "output_type": "execute_result"
    }
   ],
   "source": [
    "5x"
   ]
  },
  {
   "cell_type": "markdown",
   "metadata": {},
   "source": [
    "That looks pretty good. So we're beginning to be able to use Flux to solve\n",
    "problems where we know what the *output* should look like, but we're not\n",
    "sure what the *input* should be to get there."
   ]
  },
  {
   "cell_type": "markdown",
   "metadata": {},
   "source": [
    "You now arguably understand everything you need to do productive ML. But let's\n",
    "look over a few more examples to see how it looks in practice."
   ]
  },
  {
   "cell_type": "markdown",
   "metadata": {},
   "source": [
    "Optimising Colours\n",
    "------------------"
   ]
  },
  {
   "cell_type": "markdown",
   "metadata": {},
   "source": [
    "Just like Julia more generally, Flux has good support for custom types.\n",
    "This means we can carry out optimisation on things like colours!"
   ]
  },
  {
   "cell_type": "markdown",
   "metadata": {},
   "source": [
    "This example uses the excellent Colors.jl. Colors contains, among other\n",
    "things, a `colordiff` function which uses fancy colour theory algorithms to\n",
    "estimate the *perceptual* difference between two colours. We can use this\n",
    "directly in our loss function."
   ]
  },
  {
   "cell_type": "code",
   "execution_count": 24,
   "metadata": {},
   "outputs": [
    {
     "data": {
      "image/svg+xml": [
       "<?xml version=\"1.0\" encoding=\"UTF-8\"?>\n",
       "<!DOCTYPE svg PUBLIC \"-//W3C//DTD SVG 1.1//EN\"\n",
       " \"http://www.w3.org/Graphics/SVG/1.1/DTD/svg11.dtd\">\n",
       "<svg xmlns=\"http://www.w3.org/2000/svg\" version=\"1.1\"\n",
       "     width=\"50.0mm\" height=\"25.0mm\"\n",
       "     shape-rendering=\"crispEdges\">\n",
       "<rect x=\"0.0mm\" y=\"0.0mm\"\n",
       "      width=\"24.0mm\" height=\"24.0mm\"\n",
       "      fill=\"#FFFFFF\" stroke=\"none\" />\n",
       "<rect x=\"25.0mm\" y=\"0.0mm\"\n",
       "      width=\"24.0mm\" height=\"24.0mm\"\n",
       "      fill=\"#FF0000\" stroke=\"none\" />\n",
       "</svg>"
      ],
      "text/plain": [
       "2-element Array{RGB{N0f8},1} with eltype RGB{FixedPointNumbers.Normed{UInt8,8}}:\n",
       " RGB{N0f8}(1.0,1.0,1.0)\n",
       " RGB{N0f8}(1.0,0.0,0.0)"
      ]
     },
     "execution_count": 24,
     "metadata": {},
     "output_type": "execute_result"
    }
   ],
   "source": [
    "using Colors\n",
    "\n",
    "target = RGB(1, 0, 0)\n",
    "colour = RGB(1, 1, 1)\n",
    "[colour, target]"
   ]
  },
  {
   "cell_type": "code",
   "execution_count": 23,
   "metadata": {},
   "outputs": [
    {
     "data": {
      "image/svg+xml": [
       "<?xml version=\"1.0\" encoding=\"UTF-8\"?>\n",
       "<!DOCTYPE svg PUBLIC \"-//W3C//DTD SVG 1.1//EN\"\n",
       " \"http://www.w3.org/Graphics/SVG/1.1/DTD/svg11.dtd\">\n",
       "<svg xmlns=\"http://www.w3.org/2000/svg\" version=\"1.1\"\n",
       "     width=\"50.0mm\" height=\"25.0mm\"\n",
       "     shape-rendering=\"crispEdges\">\n",
       "<rect x=\"0.0mm\" y=\"0.0mm\"\n",
       "      width=\"24.0mm\" height=\"24.0mm\"\n",
       "      fill=\"#FF1D00\" stroke=\"none\" />\n",
       "<rect x=\"25.0mm\" y=\"0.0mm\"\n",
       "      width=\"24.0mm\" height=\"24.0mm\"\n",
       "      fill=\"#FF0000\" stroke=\"none\" />\n",
       "</svg>"
      ],
      "text/plain": [
       "2-element Array{RGB{N0f8},1} with eltype RGB{FixedPointNumbers.Normed{UInt8,8}}:\n",
       " RGB{N0f8}(1.0,0.114,0.0)\n",
       " RGB{N0f8}(1.0,0.0,0.0)  "
      ]
     },
     "execution_count": 23,
     "metadata": {},
     "output_type": "execute_result"
    }
   ],
   "source": [
    "opt = Descent(0.01)\n",
    "\n",
    "for i = 1:10\n",
    "  step!(opt, target) do y\n",
    "    colordiff(colour, y)\n",
    "  end\n",
    "end\n",
    "\n",
    "[colour, target]"
   ]
  },
  {
   "cell_type": "markdown",
   "metadata": {},
   "source": [
    "`colour` started out white and is now red. That makes sense, as we've\n",
    "minimised the distance between the two colours. But we can also *maximize*\n",
    "with a simple minus sign."
   ]
  },
  {
   "cell_type": "code",
   "execution_count": 25,
   "metadata": {},
   "outputs": [
    {
     "data": {
      "image/svg+xml": [
       "<?xml version=\"1.0\" encoding=\"UTF-8\"?>\n",
       "<!DOCTYPE svg PUBLIC \"-//W3C//DTD SVG 1.1//EN\"\n",
       " \"http://www.w3.org/Graphics/SVG/1.1/DTD/svg11.dtd\">\n",
       "<svg xmlns=\"http://www.w3.org/2000/svg\" version=\"1.1\"\n",
       "     width=\"50.0mm\" height=\"25.0mm\"\n",
       "     shape-rendering=\"crispEdges\">\n",
       "<rect x=\"0.0mm\" y=\"0.0mm\"\n",
       "      width=\"24.0mm\" height=\"24.0mm\"\n",
       "      fill=\"#00FF2F\" stroke=\"none\" />\n",
       "<rect x=\"25.0mm\" y=\"0.0mm\"\n",
       "      width=\"24.0mm\" height=\"24.0mm\"\n",
       "      fill=\"#FF0000\" stroke=\"none\" />\n",
       "</svg>"
      ],
      "text/plain": [
       "2-element Array{RGB{N0f8},1} with eltype RGB{FixedPointNumbers.Normed{UInt8,8}}:\n",
       " RGB{N0f8}(0.0,1.0,0.184)\n",
       " RGB{N0f8}(1.0,0.0,0.0)  "
      ]
     },
     "execution_count": 25,
     "metadata": {},
     "output_type": "execute_result"
    }
   ],
   "source": [
    "colour1 = RGB(1, 1, 1)\n",
    "\n",
    "for i = 1:10\n",
    "  step!(opt, target) do y\n",
    "    -colordiff(colour1, y)\n",
    "  end\n",
    "end\n",
    "\n",
    "[colour1, target]"
   ]
  },
  {
   "cell_type": "markdown",
   "metadata": {},
   "source": [
    "Now we have green, a colour that's arguably very different from red. However,\n",
    "there's a subtlety here; notice what happens if we use a different colour as\n",
    "our starting point."
   ]
  },
  {
   "cell_type": "code",
   "execution_count": 26,
   "metadata": {},
   "outputs": [
    {
     "data": {
      "image/svg+xml": [
       "<?xml version=\"1.0\" encoding=\"UTF-8\"?>\n",
       "<!DOCTYPE svg PUBLIC \"-//W3C//DTD SVG 1.1//EN\"\n",
       " \"http://www.w3.org/Graphics/SVG/1.1/DTD/svg11.dtd\">\n",
       "<svg xmlns=\"http://www.w3.org/2000/svg\" version=\"1.1\"\n",
       "     width=\"50.0mm\" height=\"25.0mm\"\n",
       "     shape-rendering=\"crispEdges\">\n",
       "<rect x=\"0.0mm\" y=\"0.0mm\"\n",
       "      width=\"24.0mm\" height=\"24.0mm\"\n",
       "      fill=\"#00006A\" stroke=\"none\" />\n",
       "<rect x=\"25.0mm\" y=\"0.0mm\"\n",
       "      width=\"24.0mm\" height=\"24.0mm\"\n",
       "      fill=\"#FF0000\" stroke=\"none\" />\n",
       "</svg>"
      ],
      "text/plain": [
       "2-element Array{RGB{N0f8},1} with eltype RGB{FixedPointNumbers.Normed{UInt8,8}}:\n",
       " RGB{N0f8}(0.0,0.0,0.416)\n",
       " RGB{N0f8}(1.0,0.0,0.0)  "
      ]
     },
     "execution_count": 26,
     "metadata": {},
     "output_type": "execute_result"
    }
   ],
   "source": [
    "colour2 = RGB(0, 0, 1)\n",
    "\n",
    "for i = 1:10\n",
    "  step!(opt, target) do y\n",
    "    -colordiff(colour2, y)\n",
    "  end\n",
    "end\n",
    "\n",
    "[colour2, target]"
   ]
  },
  {
   "cell_type": "markdown",
   "metadata": {},
   "source": [
    "Now we have a dark blue! If we look directly at `colourdiff` we'll see that\n",
    "green is better."
   ]
  },
  {
   "cell_type": "code",
   "execution_count": 18,
   "metadata": {},
   "outputs": [
    {
     "data": {
      "text/plain": [
       "(86.55569994158988, 56.28492166772675)"
      ]
     },
     "execution_count": 18,
     "metadata": {},
     "output_type": "execute_result"
    }
   ],
   "source": [
    "colordiff(target, colour1), colordiff(target, colour2)"
   ]
  },
  {
   "cell_type": "markdown",
   "metadata": {},
   "source": [
    "So why do we get blue here? This is another case where it's important that\n",
    "Flux optimises programs through a series of small tweaks. In this case, even\n",
    "though green is better overall, making our colour slightly more green actually\n",
    "makes our score worse temporarily."
   ]
  },
  {
   "cell_type": "code",
   "execution_count": 19,
   "metadata": {},
   "outputs": [
    {
     "data": {
      "text/plain": [
       "(56.358044105764286, 54.49832563918788)"
      ]
     },
     "execution_count": 19,
     "metadata": {},
     "output_type": "execute_result"
    }
   ],
   "source": [
    "colordiff(target, RGB(0, 0, 0.4)), colordiff(target, RGB(0, 0.1, 0.4))"
   ]
  },
  {
   "cell_type": "markdown",
   "metadata": {},
   "source": [
    "This is known as a *local optimimum*. It's important to understand how Flux\n",
    "optimises programs and what this means for you, so we'll cover this in more\n",
    "detail in future."
   ]
  },
  {
   "cell_type": "markdown",
   "metadata": {},
   "source": [
    "Keras in 5 lines\n",
    "-----------------"
   ]
  },
  {
   "cell_type": "markdown",
   "metadata": {},
   "source": [
    "[Working on making this an MNIST demo, but here's the gist of it.]"
   ]
  },
  {
   "cell_type": "markdown",
   "metadata": {},
   "source": [
    "Dummy data."
   ]
  },
  {
   "cell_type": "code",
   "execution_count": 20,
   "metadata": {},
   "outputs": [
    {
     "data": {
      "text/plain": [
       "2-element Array{Int64,1}:\n",
       " 1\n",
       " 0"
      ]
     },
     "execution_count": 20,
     "metadata": {},
     "output_type": "execute_result"
    }
   ],
   "source": [
    "x = rand(10)\n",
    "y = [1, 0]"
   ]
  },
  {
   "cell_type": "markdown",
   "metadata": {},
   "source": [
    "Logistic regresion."
   ]
  },
  {
   "cell_type": "code",
   "execution_count": 21,
   "metadata": {},
   "outputs": [
    {
     "data": {
      "text/plain": [
       "3.3469900905918246"
      ]
     },
     "execution_count": 21,
     "metadata": {},
     "output_type": "execute_result"
    }
   ],
   "source": [
    "using Flux: crossentropy\n",
    "\n",
    "W = randn(2, 10)\n",
    "b = zeros(2)\n",
    "\n",
    "predict = x -> softmax(W * x .+ b)\n",
    "\n",
    "opt = Descent(0.1)\n",
    "\n",
    "loss = (x, y) -> crossentropy(predict(x), y)\n",
    "\n",
    "step!(loss, opt, x, y)"
   ]
  },
  {
   "cell_type": "markdown",
   "metadata": {},
   "source": [
    "Multi-layer perceptron."
   ]
  },
  {
   "cell_type": "code",
   "execution_count": 22,
   "metadata": {},
   "outputs": [
    {
     "data": {
      "text/plain": [
       "#23 (generic function with 1 method)"
      ]
     },
     "execution_count": 22,
     "metadata": {},
     "output_type": "execute_result"
    }
   ],
   "source": [
    "function dense(in, out, σ = identity)\n",
    "  W = randn(out, in)\n",
    "  b = zeros(out)\n",
    "  x -> σ.(W * x .+ b)\n",
    "end\n",
    "\n",
    "chain(fs...) = x -> foldl((x, m) -> m(x), fs, init = x)\n",
    "\n",
    "model = chain(dense(10, 5, relu), dense(5, 2), softmax)"
   ]
  },
  {
   "cell_type": "markdown",
   "metadata": {},
   "source": [
    "Doesn't quite work yet."
   ]
  },
  {
   "cell_type": "code",
   "execution_count": 20,
   "metadata": {},
   "outputs": [],
   "source": [
    "# step!(opt, x, y) do x, y\n",
    "#   crossentropy(model(x), y)\n",
    "# end"
   ]
  }
 ],
 "metadata": {
  "kernelspec": {
   "display_name": "Julia 1.2.0-DEV",
   "language": "julia",
   "name": "julia-1.2"
  },
  "language_info": {
   "file_extension": ".jl",
   "mimetype": "application/julia",
   "name": "julia",
   "version": "1.2.0"
  }
 },
 "nbformat": 4,
 "nbformat_minor": 3
}
